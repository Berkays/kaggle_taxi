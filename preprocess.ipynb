{
 "cells": [
  {
   "cell_type": "code",
   "execution_count": null,
   "metadata": {},
   "outputs": [],
   "source": [
    "import pandas as pd\n",
    "import numpy as np\n",
    "import matplotlib.pyplot as plt\n",
    "import seaborn as sns\n",
    "\n",
    "from sklearn.model_selection import train_test_split\n",
    "from sklearn import preprocessing\n",
    "from sklearn.preprocessing import MinMaxScaler,StandardScaler\n",
    "from sklearn.preprocessing import OneHotEncoder\n",
    "\n",
    "\n",
    "dataset = 'train.csv'\n",
    "dataset_processed = '1M.csv'\n",
    "number_of_rows = 500000\n",
    "\n",
    "df = pd.read_csv(dataset,delimiter=',',parse_dates=['pickup_datetime'],nrows=number_of_rows)\n",
    "\n",
    "#df['month'] = pd.DatetimeIndex(df['pickup_datetime']).month\n",
    "#df['year'] = pd.DatetimeIndex(df['pickup_datetime']).year\n",
    "#df['day'] = pd.DatetimeIndex(df['pickup_datetime']).day\n",
    "#df['hour'] = pd.DatetimeIndex(df['pickup_datetime']).hour"
   ]
  },
  {
   "cell_type": "code",
   "execution_count": null,
   "metadata": {},
   "outputs": [],
   "source": [
    "df = df.drop(['key','pickup_datetime'], axis=1)\n",
    "\n",
    "\n",
    "min_fare = 2.5\n",
    "max_fare = 200\n",
    "\n",
    "# Drop outlier fares\n",
    "df = df[df['fare_amount'].between(min_fare,max_fare)]\n",
    "\n",
    "min_passenger = 1\n",
    "max_passenger = 6\n",
    "\n",
    "# Drop outlier passenger_count\n",
    "df = df[df['passenger_count'].between(min_passenger,max_passenger)]"
   ]
  },
  {
   "cell_type": "code",
   "execution_count": null,
   "metadata": {},
   "outputs": [],
   "source": [
    "min_pick_longitude = -74.25\n",
    "max_pick_longitude = -73.25\n",
    "min_pick_latitude = 40.5\n",
    "max_pick_latitude = 41.0\n",
    "\n",
    "# Drop outlier locations\n",
    "df = df[df['pickup_longitude'].between(min_pick_longitude,max_pick_longitude)]\n",
    "df = df[df['pickup_latitude'].between(min_pick_latitude,max_pick_latitude)]\n",
    "\n",
    "min_drop_longitude = -74.25\n",
    "max_drop_longitude = -73.25\n",
    "min_drop_latitude = 40.5\n",
    "max_drop_latitude = 41.0\n",
    "\n",
    "# Drop outlier locations\n",
    "df = df[df['dropoff_longitude'].between(min_drop_longitude,max_drop_longitude)]\n",
    "df = df[df['dropoff_latitude'].between(min_drop_latitude,max_drop_latitude)]"
   ]
  },
  {
   "cell_type": "code",
   "execution_count": null,
   "metadata": {},
   "outputs": [],
   "source": [
    "def remove_outlier(data):\n",
    "    d = np.abs(data - np.median(data))\n",
    "    mdev = np.median(d)\n",
    "    s = d/mdev if mdev else 0.\n",
    "    indices = np.argwhere(data[s<3])\n",
    "    return indices.reshape(len(indices,))\n",
    "\n",
    "\n",
    "pickup_longitude_ind = remove_outlier(df.filter(['pickup_longitude'],axis=1).values)\n",
    "#df = df.drop(df.index[pickup_longitude_ind])\n",
    "df = df.iloc[pickup_longitude_ind,:]\n",
    "\n",
    "pickup_latitude_ind = remove_outlier(df.filter(['pickup_latitude'],axis=1).values)\n",
    "#df = df.drop(df.index[pickup_latitude_ind])\n",
    "df = df.iloc[pickup_latitude_ind,:]\n",
    "\n",
    "dropoff_longitude_ind = remove_outlier(df.filter(['dropoff_longitude'],axis=1).values)\n",
    "#df = df.drop(df.index[dropoff_longitude_ind])\n",
    "df = df.iloc[dropoff_longitude_ind,:]\n",
    "\n",
    "dropoff_latitude_ind = remove_outlier(df.filter(['dropoff_latitude'],axis=1).values)\n",
    "#df = df.drop(df.index[dropoff_longitude_ind])\n",
    "df = df.iloc[dropoff_latitude_ind,:]"
   ]
  },
  {
   "cell_type": "code",
   "execution_count": null,
   "metadata": {},
   "outputs": [],
   "source": [
    "df = df.dropna()"
   ]
  },
  {
   "cell_type": "code",
   "execution_count": null,
   "metadata": {},
   "outputs": [],
   "source": [
    "# Save preprocessed file\n",
    "df.to_csv(dataset_processed,index=False)"
   ]
  }
 ],
 "metadata": {
  "kernelspec": {
   "display_name": "Python 3",
   "language": "python",
   "name": "python3"
  },
  "language_info": {
   "codemirror_mode": {
    "name": "ipython",
    "version": 3
   },
   "file_extension": ".py",
   "mimetype": "text/x-python",
   "name": "python",
   "nbconvert_exporter": "python",
   "pygments_lexer": "ipython3",
   "version": "3.6.0"
  }
 },
 "nbformat": 4,
 "nbformat_minor": 2
}
