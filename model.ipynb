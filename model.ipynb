{
 "cells": [
  {
   "cell_type": "code",
   "execution_count": 165,
   "metadata": {},
   "outputs": [
    {
     "name": "stdout",
     "output_type": "stream",
     "text": [
      "Finished loading\n"
     ]
    }
   ],
   "source": [
    "import pandas as pd\n",
    "import numpy as np\n",
    "import matplotlib.pyplot as plt\n",
    "import seaborn as sns\n",
    "from sklearn.model_selection import train_test_split\n",
    "from sklearn import preprocessing\n",
    "from sklearn.preprocessing import MinMaxScaler,StandardScaler\n",
    "from sklearn.preprocessing import OneHotEncoder\n",
    "\n",
    "from keras.layers import Dense, Dropout, Flatten\n",
    "from keras.models import Sequential\n",
    "from keras import optimizers\n",
    "\n",
    "dataset = '100K.csv'\n",
    "dataset_processed = '100K-pp.csv'\n",
    "preprocessed = True\n",
    "\n",
    "if(preprocessed is False):\n",
    "    df = pd.read_csv(dataset,delimiter=',',parse_dates=['pickup_datetime'])\n",
    "    df = df.drop(['key'], axis=1)\n",
    "\n",
    "    #Drop if fare == 0\n",
    "    df = df[df['fare_amount'] > 0]\n",
    "\n",
    "    df = df.dropna()\n",
    "\n",
    "    df['month'] = pd.DatetimeIndex(df['pickup_datetime']).month\n",
    "    df['year'] = pd.DatetimeIndex(df['pickup_datetime']).year\n",
    "    df['day'] = pd.DatetimeIndex(df['pickup_datetime']).day\n",
    "    df['hour'] = pd.DatetimeIndex(df['pickup_datetime']).hour\n",
    "    df = df.drop(['pickup_datetime'], axis=1)\n",
    "    \n",
    "    # Save preprocessed file\n",
    "    df.to_csv(dataset_processed,index=False)\n",
    "else:\n",
    "    df = pd.read_csv(dataset_processed,delimiter=',')\n",
    "    \n",
    "print(\"Finished loading\")"
   ]
  },
  {
   "cell_type": "code",
   "execution_count": 166,
   "metadata": {},
   "outputs": [
    {
     "data": {
      "image/png": "[encoded data removed]",
      "text/plain": [
       "<Figure size 576x432 with 2 Axes>"
      ]
     },
     "metadata": {
      "needs_background": "light"
     },
     "output_type": "display_data"
    }
   ],
   "source": [
    "def remove_outlier(data):\n",
    "    d = np.abs(data - np.median(data))\n",
    "    mdev = np.median(d)\n",
    "    s = d/mdev if mdev else 0.\n",
    "    indices = np.argwhere(data[s<3])\n",
    "    return indices.reshape(len(indices,))\n",
    "\n",
    "\n",
    "pickup_longitude_ind = remove_outlier(df.filter(['pickup_longitude'],axis=1).values)\n",
    "#df = df.drop(df.index[pickup_longitude_ind])\n",
    "df = df.iloc[pickup_longitude_ind,:]\n",
    "\n",
    "pickup_latitude_ind = remove_outlier(df.filter(['pickup_latitude'],axis=1).values)\n",
    "#df = df.drop(df.index[pickup_latitude_ind])\n",
    "df = df.iloc[pickup_latitude_ind,:]\n",
    "\n",
    "dropoff_longitude_ind = remove_outlier(df.filter(['dropoff_longitude'],axis=1).values)\n",
    "#df = df.drop(df.index[dropoff_longitude_ind])\n",
    "df = df.iloc[dropoff_longitude_ind,:]\n",
    "\n",
    "dropoff_latitude_ind = remove_outlier(df.filter(['dropoff_latitude'],axis=1).values)\n",
    "#df = df.drop(df.index[dropoff_longitude_ind])\n",
    "df = df.iloc[dropoff_latitude_ind,:]\n",
    "\n",
    "df = df.dropna()\n",
    "\n",
    "fig, (ax1, ax2) = plt.subplots(ncols=2, figsize=(8, 6))\n",
    "ax1.set_title('Before Scaling')\n",
    "sns.kdeplot(df['pickup_longitude'], ax=ax1)\n",
    "sns.kdeplot(df['pickup_latitude'], ax=ax1)\n",
    "sns.kdeplot(df['dropoff_longitude'], ax=ax1)\n",
    "sns.kdeplot(df['dropoff_latitude'], ax=ax1)\n",
    "\n",
    "scaler = MinMaxScaler()\n",
    "for column in ['pickup_longitude','pickup_latitude','dropoff_longitude','dropoff_latitude']:\n",
    "    df[column] = scaler.fit_transform(df[column].values.reshape(-1,1))\n",
    "\n",
    "ax2.set_title('After Standard Scaler')\n",
    "sns.kdeplot(df['pickup_longitude'], ax=ax2)\n",
    "sns.kdeplot(df['pickup_latitude'], ax=ax2)\n",
    "sns.kdeplot(df['dropoff_longitude'], ax=ax2)\n",
    "sns.kdeplot(df['dropoff_latitude'], ax=ax2)\n",
    "\n",
    "plt.show()"
   ]
  },
  {
   "cell_type": "code",
   "execution_count": 167,
   "metadata": {},
   "outputs": [
    {
     "data": {
      "text/html": [
       "<div>\n",
       "<style scoped>\n",
       "    .dataframe tbody tr th:only-of-type {\n",
       "        vertical-align: middle;\n",
       "    }\n",
       "\n",
       "    .dataframe tbody tr th {\n",
       "        vertical-align: top;\n",
       "    }\n",
       "\n",
       "    .dataframe thead th {\n",
       "        text-align: right;\n",
       "    }\n",
       "</style>\n",
       "<table border=\"1\" class=\"dataframe\">\n",
       "  <thead>\n",
       "    <tr style=\"text-align: right;\">\n",
       "      <th></th>\n",
       "      <th>fare_amount</th>\n",
       "      <th>pickup_longitude</th>\n",
       "      <th>pickup_latitude</th>\n",
       "      <th>dropoff_longitude</th>\n",
       "      <th>dropoff_latitude</th>\n",
       "      <th>passenger_count</th>\n",
       "      <th>month</th>\n",
       "      <th>year</th>\n",
       "      <th>day</th>\n",
       "      <th>hour</th>\n",
       "    </tr>\n",
       "  </thead>\n",
       "  <tbody>\n",
       "    <tr>\n",
       "      <th>0</th>\n",
       "      <td>4.5</td>\n",
       "      <td>0.852537</td>\n",
       "      <td>0.241488</td>\n",
       "      <td>0.086153</td>\n",
       "      <td>0.976981</td>\n",
       "      <td>1</td>\n",
       "      <td>6</td>\n",
       "      <td>2009</td>\n",
       "      <td>15</td>\n",
       "      <td>17</td>\n",
       "    </tr>\n",
       "    <tr>\n",
       "      <th>1</th>\n",
       "      <td>16.9</td>\n",
       "      <td>0.852316</td>\n",
       "      <td>0.241467</td>\n",
       "      <td>0.085056</td>\n",
       "      <td>0.977575</td>\n",
       "      <td>1</td>\n",
       "      <td>1</td>\n",
       "      <td>2010</td>\n",
       "      <td>5</td>\n",
       "      <td>16</td>\n",
       "    </tr>\n",
       "    <tr>\n",
       "      <th>2</th>\n",
       "      <td>5.7</td>\n",
       "      <td>0.852359</td>\n",
       "      <td>0.241573</td>\n",
       "      <td>0.084961</td>\n",
       "      <td>0.977307</td>\n",
       "      <td>2</td>\n",
       "      <td>8</td>\n",
       "      <td>2011</td>\n",
       "      <td>18</td>\n",
       "      <td>0</td>\n",
       "    </tr>\n",
       "    <tr>\n",
       "      <th>3</th>\n",
       "      <td>7.7</td>\n",
       "      <td>0.852353</td>\n",
       "      <td>0.241513</td>\n",
       "      <td>0.084958</td>\n",
       "      <td>0.977371</td>\n",
       "      <td>1</td>\n",
       "      <td>4</td>\n",
       "      <td>2012</td>\n",
       "      <td>21</td>\n",
       "      <td>4</td>\n",
       "    </tr>\n",
       "    <tr>\n",
       "      <th>4</th>\n",
       "      <td>5.3</td>\n",
       "      <td>0.852378</td>\n",
       "      <td>0.241587</td>\n",
       "      <td>0.085236</td>\n",
       "      <td>0.977590</td>\n",
       "      <td>1</td>\n",
       "      <td>3</td>\n",
       "      <td>2010</td>\n",
       "      <td>9</td>\n",
       "      <td>7</td>\n",
       "    </tr>\n",
       "  </tbody>\n",
       "</table>\n",
       "</div>"
      ],
      "text/plain": [
       "   fare_amount  pickup_longitude  pickup_latitude  dropoff_longitude  \\\n",
       "0          4.5          0.852537         0.241488           0.086153   \n",
       "1         16.9          0.852316         0.241467           0.085056   \n",
       "2          5.7          0.852359         0.241573           0.084961   \n",
       "3          7.7          0.852353         0.241513           0.084958   \n",
       "4          5.3          0.852378         0.241587           0.085236   \n",
       "\n",
       "   dropoff_latitude  passenger_count  month  year  day  hour  \n",
       "0          0.976981                1      6  2009   15    17  \n",
       "1          0.977575                1      1  2010    5    16  \n",
       "2          0.977307                2      8  2011   18     0  \n",
       "3          0.977371                1      4  2012   21     4  \n",
       "4          0.977590                1      3  2010    9     7  "
      ]
     },
     "execution_count": 167,
     "metadata": {},
     "output_type": "execute_result"
    }
   ],
   "source": [
    "df.head()"
   ]
  },
  {
   "cell_type": "code",
   "execution_count": 168,
   "metadata": {},
   "outputs": [
    {
     "name": "stdout",
     "output_type": "stream",
     "text": [
      "(69085, 1)\n"
     ]
    }
   ],
   "source": [
    "X = df.drop(['fare_amount','day'], axis=1)  # Features\n",
    "Y = df['fare_amount']  # Label    \n",
    "\n",
    "Y = Y.values.reshape(-1,1)\n",
    "print(Y.shape)"
   ]
  },
  {
   "cell_type": "code",
   "execution_count": 169,
   "metadata": {},
   "outputs": [
    {
     "name": "stdout",
     "output_type": "stream",
     "text": [
      "46286 train samples\n",
      "22799 test samples\n"
     ]
    }
   ],
   "source": [
    "x_train, x_test, y_train, y_test = train_test_split(X, Y, test_size=0.33)\n",
    "print(f\"{len(x_train)} train samples\")\n",
    "print(f\"{len(x_test)} test samples\")\n",
    "\n",
    "#sc = StandardScaler().fit(x_train)\n",
    "#x_train = sc.transform(x_train)\n",
    "#x_test = sc.transform(x_test)"
   ]
  },
  {
   "cell_type": "code",
   "execution_count": 170,
   "metadata": {},
   "outputs": [
    {
     "name": "stdout",
     "output_type": "stream",
     "text": [
      "Train on 37028 samples, validate on 9258 samples\n",
      "Epoch 1/100\n",
      "37028/37028 [==============================] - 2s 56us/step - loss: 1051.1045 - mean_absolute_error: 17.0517 - mean_squared_error: 1051.1045 - val_loss: 180.6502 - val_mean_absolute_error: 8.7798 - val_mean_squared_error: 180.6502\n",
      "Epoch 2/100\n",
      "37028/37028 [==============================] - 2s 50us/step - loss: 136.5961 - mean_absolute_error: 7.6364 - mean_squared_error: 136.5961 - val_loss: 145.6098 - val_mean_absolute_error: 6.7306 - val_mean_squared_error: 145.6098\n",
      "Epoch 3/100\n",
      "37028/37028 [==============================] - 2s 42us/step - loss: 118.2182 - mean_absolute_error: 6.8922 - mean_squared_error: 118.2182 - val_loss: 140.9807 - val_mean_absolute_error: 6.4822 - val_mean_squared_error: 140.9807\n",
      "Epoch 4/100\n",
      "37028/37028 [==============================] - 2s 41us/step - loss: 111.1275 - mean_absolute_error: 6.5821 - mean_squared_error: 111.1275 - val_loss: 123.7032 - val_mean_absolute_error: 5.7567 - val_mean_squared_error: 123.7032\n",
      "Epoch 5/100\n",
      "37028/37028 [==============================] - 2s 41us/step - loss: 106.7319 - mean_absolute_error: 6.3921 - mean_squared_error: 106.7319 - val_loss: 144.8768 - val_mean_absolute_error: 6.6899 - val_mean_squared_error: 144.8768\n",
      "Epoch 6/100\n",
      "37028/37028 [==============================] - 1s 38us/step - loss: 103.2475 - mean_absolute_error: 6.2163 - mean_squared_error: 103.2475 - val_loss: 115.4262 - val_mean_absolute_error: 5.5866 - val_mean_squared_error: 115.4262\n",
      "Epoch 7/100\n",
      "37028/37028 [==============================] - 1s 38us/step - loss: 101.0521 - mean_absolute_error: 6.1323 - mean_squared_error: 101.0521 - val_loss: 120.9327 - val_mean_absolute_error: 5.6829 - val_mean_squared_error: 120.9327\n",
      "Epoch 8/100\n",
      "37028/37028 [==============================] - 1s 37us/step - loss: 99.6073 - mean_absolute_error: 6.0738 - mean_squared_error: 99.6073 - val_loss: 121.6599 - val_mean_absolute_error: 5.7005 - val_mean_squared_error: 121.6599\n",
      "Epoch 9/100\n",
      "37028/37028 [==============================] - 1s 37us/step - loss: 97.9111 - mean_absolute_error: 6.0451 - mean_squared_error: 97.9111 - val_loss: 122.7321 - val_mean_absolute_error: 5.7306 - val_mean_squared_error: 122.7321\n",
      "Epoch 10/100\n",
      "37028/37028 [==============================] - 1s 37us/step - loss: 97.0084 - mean_absolute_error: 6.0322 - mean_squared_error: 97.0084 - val_loss: 123.7014 - val_mean_absolute_error: 5.7571 - val_mean_squared_error: 123.7014\n",
      "Epoch 11/100\n",
      "37028/37028 [==============================] - 1s 36us/step - loss: 96.0530 - mean_absolute_error: 6.0298 - mean_squared_error: 96.0530 - val_loss: 118.5210 - val_mean_absolute_error: 5.6310 - val_mean_squared_error: 118.5210\n",
      "Epoch 12/100\n",
      "37028/37028 [==============================] - 1s 36us/step - loss: 95.5837 - mean_absolute_error: 6.0390 - mean_squared_error: 95.5837 - val_loss: 111.1716 - val_mean_absolute_error: 5.5851 - val_mean_squared_error: 111.1716\n",
      "Epoch 13/100\n",
      "37028/37028 [==============================] - 1s 36us/step - loss: 95.5578 - mean_absolute_error: 6.0426 - mean_squared_error: 95.5578 - val_loss: 117.2249 - val_mean_absolute_error: 5.6107 - val_mean_squared_error: 117.2249\n",
      "Epoch 14/100\n",
      "37028/37028 [==============================] - 1s 37us/step - loss: 95.3664 - mean_absolute_error: 6.0430 - mean_squared_error: 95.3664 - val_loss: 117.9177 - val_mean_absolute_error: 5.6217 - val_mean_squared_error: 117.9177\n",
      "Epoch 15/100\n",
      "37028/37028 [==============================] - 1s 37us/step - loss: 94.7783 - mean_absolute_error: 6.0332 - mean_squared_error: 94.7783 - val_loss: 114.6875 - val_mean_absolute_error: 5.5825 - val_mean_squared_error: 114.6875\n",
      "Epoch 16/100\n",
      "37028/37028 [==============================] - 1s 40us/step - loss: 95.0735 - mean_absolute_error: 6.0472 - mean_squared_error: 95.0735 - val_loss: 115.2381 - val_mean_absolute_error: 5.5855 - val_mean_squared_error: 115.2381\n",
      "Epoch 17/100\n",
      "37028/37028 [==============================] - 2s 41us/step - loss: 94.5133 - mean_absolute_error: 6.0209 - mean_squared_error: 94.5133 - val_loss: 108.1176 - val_mean_absolute_error: 5.6488 - val_mean_squared_error: 108.1176\n",
      "Epoch 18/100\n",
      "37028/37028 [==============================] - 2s 42us/step - loss: 94.4817 - mean_absolute_error: 6.0278 - mean_squared_error: 94.4817 - val_loss: 114.7650 - val_mean_absolute_error: 5.5829 - val_mean_squared_error: 114.7650\n",
      "Epoch 19/100\n",
      "37028/37028 [==============================] - 1s 38us/step - loss: 94.1418 - mean_absolute_error: 6.0251 - mean_squared_error: 94.1418 - val_loss: 111.7980 - val_mean_absolute_error: 5.5801 - val_mean_squared_error: 111.7980\n",
      "Epoch 20/100\n",
      "37028/37028 [==============================] - 1s 40us/step - loss: 94.2840 - mean_absolute_error: 6.0338 - mean_squared_error: 94.2840 - val_loss: 114.8321 - val_mean_absolute_error: 5.5832 - val_mean_squared_error: 114.8321\n",
      "Epoch 21/100\n",
      "37028/37028 [==============================] - 1s 39us/step - loss: 94.0743 - mean_absolute_error: 6.0094 - mean_squared_error: 94.0743 - val_loss: 113.0129 - val_mean_absolute_error: 5.5730 - val_mean_squared_error: 113.0129\n",
      "Epoch 22/100\n",
      "37028/37028 [==============================] - 1s 39us/step - loss: 94.0787 - mean_absolute_error: 6.0120 - mean_squared_error: 94.0787 - val_loss: 116.2539 - val_mean_absolute_error: 5.5956 - val_mean_squared_error: 116.2539\n",
      "Epoch 23/100\n",
      "37028/37028 [==============================] - 2s 41us/step - loss: 94.0409 - mean_absolute_error: 6.0275 - mean_squared_error: 94.0409 - val_loss: 120.2907 - val_mean_absolute_error: 5.6679 - val_mean_squared_error: 120.2907\n",
      "Epoch 24/100\n",
      "37028/37028 [==============================] - 2s 44us/step - loss: 94.1130 - mean_absolute_error: 6.0172 - mean_squared_error: 94.1130 - val_loss: 116.8881 - val_mean_absolute_error: 5.6055 - val_mean_squared_error: 116.8881\n",
      "Epoch 25/100\n",
      "37028/37028 [==============================] - 1s 40us/step - loss: 94.0286 - mean_absolute_error: 6.0232 - mean_squared_error: 94.0286 - val_loss: 110.5213 - val_mean_absolute_error: 5.5907 - val_mean_squared_error: 110.5213\n",
      "Epoch 26/100\n",
      "37028/37028 [==============================] - 1s 37us/step - loss: 93.9296 - mean_absolute_error: 6.0040 - mean_squared_error: 93.9296 - val_loss: 108.6863 - val_mean_absolute_error: 5.6303 - val_mean_squared_error: 108.6863\n",
      "Epoch 27/100\n",
      "37028/37028 [==============================] - 1s 38us/step - loss: 94.0538 - mean_absolute_error: 6.0161 - mean_squared_error: 94.0538 - val_loss: 111.3487 - val_mean_absolute_error: 5.5835 - val_mean_squared_error: 111.3487\n",
      "Epoch 28/100\n",
      "37028/37028 [==============================] - 1s 38us/step - loss: 93.9077 - mean_absolute_error: 6.0057 - mean_squared_error: 93.9077 - val_loss: 108.4987 - val_mean_absolute_error: 5.6354 - val_mean_squared_error: 108.4987\n",
      "Epoch 29/100\n",
      "37028/37028 [==============================] - 2s 41us/step - loss: 93.9162 - mean_absolute_error: 6.0116 - mean_squared_error: 93.9162 - val_loss: 107.1669 - val_mean_absolute_error: 5.6879 - val_mean_squared_error: 107.1669\n",
      "Epoch 30/100\n",
      "37028/37028 [==============================] - 2s 43us/step - loss: 93.8540 - mean_absolute_error: 6.0113 - mean_squared_error: 93.8540 - val_loss: 111.2554 - val_mean_absolute_error: 5.5839 - val_mean_squared_error: 111.2554\n",
      "Epoch 31/100\n",
      "37028/37028 [==============================] - 1s 38us/step - loss: 93.9179 - mean_absolute_error: 6.0063 - mean_squared_error: 93.9179 - val_loss: 110.1481 - val_mean_absolute_error: 5.5964 - val_mean_squared_error: 110.1481\n",
      "Epoch 32/100\n",
      "37028/37028 [==============================] - 1s 39us/step - loss: 93.6752 - mean_absolute_error: 6.0137 - mean_squared_error: 93.6752 - val_loss: 106.8689 - val_mean_absolute_error: 5.7045 - val_mean_squared_error: 106.8689\n",
      "Epoch 33/100\n",
      "37028/37028 [==============================] - 1s 38us/step - loss: 93.6240 - mean_absolute_error: 6.0001 - mean_squared_error: 93.6240 - val_loss: 107.2268 - val_mean_absolute_error: 5.6870 - val_mean_squared_error: 107.2268\n",
      "Epoch 34/100\n",
      "37028/37028 [==============================] - 1s 38us/step - loss: 93.5908 - mean_absolute_error: 6.0217 - mean_squared_error: 93.5908 - val_loss: 107.5499 - val_mean_absolute_error: 5.6711 - val_mean_squared_error: 107.5499\n",
      "Epoch 35/100\n"
     ]
    },
    {
     "name": "stdout",
     "output_type": "stream",
     "text": [
      "37028/37028 [==============================] - 1s 38us/step - loss: 93.3865 - mean_absolute_error: 6.0044 - mean_squared_error: 93.3865 - val_loss: 105.0840 - val_mean_absolute_error: 5.8424 - val_mean_squared_error: 105.0840\n",
      "Epoch 36/100\n",
      "37028/37028 [==============================] - 1s 39us/step - loss: 93.4515 - mean_absolute_error: 6.0264 - mean_squared_error: 93.4515 - val_loss: 104.1610 - val_mean_absolute_error: 5.9835 - val_mean_squared_error: 104.1610\n",
      "Epoch 37/100\n",
      "37028/37028 [==============================] - 1s 36us/step - loss: 93.4046 - mean_absolute_error: 6.0002 - mean_squared_error: 93.4046 - val_loss: 103.7398 - val_mean_absolute_error: 6.1067 - val_mean_squared_error: 103.7398\n",
      "Epoch 38/100\n",
      "37028/37028 [==============================] - 1s 37us/step - loss: 93.3038 - mean_absolute_error: 6.0143 - mean_squared_error: 93.3038 - val_loss: 103.8555 - val_mean_absolute_error: 6.0677 - val_mean_squared_error: 103.8555\n",
      "Epoch 39/100\n",
      "37028/37028 [==============================] - 1s 38us/step - loss: 93.3477 - mean_absolute_error: 6.0213 - mean_squared_error: 93.3477 - val_loss: 103.6757 - val_mean_absolute_error: 6.1656 - val_mean_squared_error: 103.6757\n",
      "Epoch 40/100\n",
      "37028/37028 [==============================] - 1s 36us/step - loss: 93.3030 - mean_absolute_error: 6.0184 - mean_squared_error: 93.3030 - val_loss: 103.7907 - val_mean_absolute_error: 6.0987 - val_mean_squared_error: 103.7907\n",
      "Epoch 41/100\n",
      "37028/37028 [==============================] - 1s 37us/step - loss: 93.2287 - mean_absolute_error: 6.0175 - mean_squared_error: 93.2287 - val_loss: 103.6760 - val_mean_absolute_error: 6.1654 - val_mean_squared_error: 103.6760\n",
      "Epoch 42/100\n",
      "37028/37028 [==============================] - 1s 36us/step - loss: 93.2318 - mean_absolute_error: 6.0172 - mean_squared_error: 93.2318 - val_loss: 103.6328 - val_mean_absolute_error: 6.2197 - val_mean_squared_error: 103.6328\n",
      "Epoch 43/100\n",
      "37028/37028 [==============================] - 1s 38us/step - loss: 93.2474 - mean_absolute_error: 6.0161 - mean_squared_error: 93.2474 - val_loss: 103.6496 - val_mean_absolute_error: 6.1923 - val_mean_squared_error: 103.6496\n",
      "Epoch 44/100\n",
      "37028/37028 [==============================] - 1s 38us/step - loss: 93.2280 - mean_absolute_error: 6.0146 - mean_squared_error: 93.2280 - val_loss: 103.7243 - val_mean_absolute_error: 6.1322 - val_mean_squared_error: 103.7243\n",
      "Epoch 45/100\n",
      "37028/37028 [==============================] - 1s 36us/step - loss: 93.2356 - mean_absolute_error: 6.0190 - mean_squared_error: 93.2356 - val_loss: 103.6533 - val_mean_absolute_error: 6.1878 - val_mean_squared_error: 103.6533\n",
      "Epoch 46/100\n",
      "37028/37028 [==============================] - 1s 36us/step - loss: 93.2405 - mean_absolute_error: 6.0109 - mean_squared_error: 93.2405 - val_loss: 103.6799 - val_mean_absolute_error: 6.1621 - val_mean_squared_error: 103.6799\n",
      "Epoch 47/100\n",
      "37028/37028 [==============================] - 2s 57us/step - loss: 93.2156 - mean_absolute_error: 6.0095 - mean_squared_error: 93.2156 - val_loss: 103.6530 - val_mean_absolute_error: 6.3195 - val_mean_squared_error: 103.6530\n",
      "Epoch 48/100\n",
      "37028/37028 [==============================] - 2s 55us/step - loss: 93.2499 - mean_absolute_error: 6.0329 - mean_squared_error: 93.2499 - val_loss: 103.8151 - val_mean_absolute_error: 6.0881 - val_mean_squared_error: 103.8151\n",
      "Epoch 49/100\n",
      "37028/37028 [==============================] - 1s 39us/step - loss: 93.2353 - mean_absolute_error: 6.0153 - mean_squared_error: 93.2353 - val_loss: 103.7081 - val_mean_absolute_error: 6.1420 - val_mean_squared_error: 103.7081\n",
      "Epoch 50/100\n",
      "37028/37028 [==============================] - 2s 49us/step - loss: 93.2592 - mean_absolute_error: 6.0130 - mean_squared_error: 93.2592 - val_loss: 103.6796 - val_mean_absolute_error: 6.1623 - val_mean_squared_error: 103.6796\n",
      "Epoch 51/100\n",
      "37028/37028 [==============================] - 2s 59us/step - loss: 93.2182 - mean_absolute_error: 6.0232 - mean_squared_error: 93.2182 - val_loss: 103.8059 - val_mean_absolute_error: 6.0920 - val_mean_squared_error: 103.8059\n",
      "Epoch 52/100\n",
      "37028/37028 [==============================] - 2s 54us/step - loss: 93.2196 - mean_absolute_error: 6.0161 - mean_squared_error: 93.2196 - val_loss: 103.6673 - val_mean_absolute_error: 6.1732 - val_mean_squared_error: 103.6673\n",
      "Epoch 53/100\n",
      "37028/37028 [==============================] - 2s 42us/step - loss: 93.2606 - mean_absolute_error: 6.0123 - mean_squared_error: 93.2606 - val_loss: 103.6280 - val_mean_absolute_error: 6.2343 - val_mean_squared_error: 103.6280\n",
      "Epoch 54/100\n",
      "37028/37028 [==============================] - 1s 40us/step - loss: 93.2800 - mean_absolute_error: 6.0252 - mean_squared_error: 93.2800 - val_loss: 103.6994 - val_mean_absolute_error: 6.1477 - val_mean_squared_error: 103.6994\n",
      "Epoch 55/100\n",
      "37028/37028 [==============================] - 1s 37us/step - loss: 93.2419 - mean_absolute_error: 6.0102 - mean_squared_error: 93.2419 - val_loss: 103.6562 - val_mean_absolute_error: 6.1846 - val_mean_squared_error: 103.6562\n",
      "Epoch 56/100\n",
      "37028/37028 [==============================] - 1s 36us/step - loss: 93.2473 - mean_absolute_error: 6.0162 - mean_squared_error: 93.2473 - val_loss: 103.7995 - val_mean_absolute_error: 6.4260 - val_mean_squared_error: 103.7995\n",
      "Epoch 57/100\n",
      "37028/37028 [==============================] - 1s 37us/step - loss: 93.2358 - mean_absolute_error: 6.0292 - mean_squared_error: 93.2358 - val_loss: 103.9636 - val_mean_absolute_error: 6.0359 - val_mean_squared_error: 103.9636\n",
      "Epoch 58/100\n",
      "37028/37028 [==============================] - 1s 36us/step - loss: 93.2371 - mean_absolute_error: 6.0088 - mean_squared_error: 93.2371 - val_loss: 103.6434 - val_mean_absolute_error: 6.2006 - val_mean_squared_error: 103.6434\n",
      "Epoch 59/100\n",
      "37028/37028 [==============================] - 1s 36us/step - loss: 93.2366 - mean_absolute_error: 6.0140 - mean_squared_error: 93.2366 - val_loss: 103.6513 - val_mean_absolute_error: 6.1902 - val_mean_squared_error: 103.6513\n",
      "Epoch 60/100\n",
      "37028/37028 [==============================] - 1s 36us/step - loss: 93.2760 - mean_absolute_error: 6.0224 - mean_squared_error: 93.2760 - val_loss: 103.6261 - val_mean_absolute_error: 6.2489 - val_mean_squared_error: 103.6261\n",
      "Epoch 61/100\n",
      "37028/37028 [==============================] - 1s 37us/step - loss: 93.2350 - mean_absolute_error: 6.0256 - mean_squared_error: 93.2350 - val_loss: 103.7897 - val_mean_absolute_error: 6.0991 - val_mean_squared_error: 103.7897\n",
      "Epoch 62/100\n",
      "37028/37028 [==============================] - 1s 37us/step - loss: 93.2451 - mean_absolute_error: 6.0118 - mean_squared_error: 93.2451 - val_loss: 103.7371 - val_mean_absolute_error: 6.1250 - val_mean_squared_error: 103.7371\n",
      "Epoch 63/100\n",
      "37028/37028 [==============================] - 1s 37us/step - loss: 93.2245 - mean_absolute_error: 6.0248 - mean_squared_error: 93.2245 - val_loss: 103.7761 - val_mean_absolute_error: 6.1054 - val_mean_squared_error: 103.7761\n",
      "Epoch 64/100\n",
      "37028/37028 [==============================] - 1s 37us/step - loss: 93.2192 - mean_absolute_error: 6.0100 - mean_squared_error: 93.2192 - val_loss: 103.6363 - val_mean_absolute_error: 6.2124 - val_mean_squared_error: 103.6363\n",
      "Epoch 65/100\n",
      "37028/37028 [==============================] - 1s 37us/step - loss: 93.2362 - mean_absolute_error: 6.0241 - mean_squared_error: 93.2362 - val_loss: 103.8215 - val_mean_absolute_error: 6.0854 - val_mean_squared_error: 103.8215\n",
      "Epoch 66/100\n",
      "37028/37028 [==============================] - 1s 38us/step - loss: 93.2331 - mean_absolute_error: 6.0185 - mean_squared_error: 93.2331 - val_loss: 103.7366 - val_mean_absolute_error: 6.1253 - val_mean_squared_error: 103.7366\n",
      "Epoch 67/100\n",
      "37028/37028 [==============================] - 1s 37us/step - loss: 93.2370 - mean_absolute_error: 6.0124 - mean_squared_error: 93.2370 - val_loss: 103.6542 - val_mean_absolute_error: 6.1868 - val_mean_squared_error: 103.6542\n",
      "Epoch 68/100\n",
      "37028/37028 [==============================] - 1s 36us/step - loss: 93.2596 - mean_absolute_error: 6.0208 - mean_squared_error: 93.2596 - val_loss: 103.6642 - val_mean_absolute_error: 6.1762 - val_mean_squared_error: 103.6642\n",
      "Epoch 69/100\n",
      "37028/37028 [==============================] - 1s 38us/step - loss: 93.2474 - mean_absolute_error: 6.0172 - mean_squared_error: 93.2474 - val_loss: 103.6543 - val_mean_absolute_error: 6.1866 - val_mean_squared_error: 103.6543\n",
      "Epoch 70/100\n",
      "37028/37028 [==============================] - 1s 37us/step - loss: 93.2381 - mean_absolute_error: 6.0100 - mean_squared_error: 93.2381 - val_loss: 103.6585 - val_mean_absolute_error: 6.1820 - val_mean_squared_error: 103.6585\n",
      "Epoch 71/100\n",
      "37028/37028 [==============================] - 1s 36us/step - loss: 93.2701 - mean_absolute_error: 6.0239 - mean_squared_error: 93.2701 - val_loss: 103.7671 - val_mean_absolute_error: 6.1096 - val_mean_squared_error: 103.7671\n",
      "Epoch 72/100\n",
      "37028/37028 [==============================] - 1s 36us/step - loss: 93.2418 - mean_absolute_error: 6.0117 - mean_squared_error: 93.2418 - val_loss: 103.6262 - val_mean_absolute_error: 6.2579 - val_mean_squared_error: 103.6262\n",
      "Epoch 73/100\n",
      "37028/37028 [==============================] - 1s 38us/step - loss: 93.2384 - mean_absolute_error: 6.0177 - mean_squared_error: 93.2384 - val_loss: 103.7331 - val_mean_absolute_error: 6.1272 - val_mean_squared_error: 103.7331\n",
      "Epoch 74/100\n",
      "37028/37028 [==============================] - 1s 40us/step - loss: 93.2352 - mean_absolute_error: 6.0122 - mean_squared_error: 93.2352 - val_loss: 103.6494 - val_mean_absolute_error: 6.1926 - val_mean_squared_error: 103.6494\n",
      "Epoch 75/100\n",
      "37028/37028 [==============================] - 2s 41us/step - loss: 93.2181 - mean_absolute_error: 6.0181 - mean_squared_error: 93.2181 - val_loss: 103.6321 - val_mean_absolute_error: 6.2214 - val_mean_squared_error: 103.6321\n",
      "Epoch 76/100\n",
      "37028/37028 [==============================] - 2s 41us/step - loss: 93.2383 - mean_absolute_error: 6.0212 - mean_squared_error: 93.2383 - val_loss: 103.7252 - val_mean_absolute_error: 6.1317 - val_mean_squared_error: 103.7252\n",
      "Epoch 77/100\n",
      "37028/37028 [==============================] - 2s 44us/step - loss: 93.2434 - mean_absolute_error: 6.0092 - mean_squared_error: 93.2434 - val_loss: 103.6303 - val_mean_absolute_error: 6.2789 - val_mean_squared_error: 103.6303\n",
      "Epoch 78/100\n",
      "37028/37028 [==============================] - 2s 52us/step - loss: 93.2498 - mean_absolute_error: 6.0224 - mean_squared_error: 93.2498 - val_loss: 103.7470 - val_mean_absolute_error: 6.1197 - val_mean_squared_error: 103.7470\n",
      "Epoch 79/100\n",
      "37028/37028 [==============================] - 2s 47us/step - loss: 93.2225 - mean_absolute_error: 6.0145 - mean_squared_error: 93.2225 - val_loss: 103.6402 - val_mean_absolute_error: 6.3009 - val_mean_squared_error: 103.6402\n",
      "Epoch 80/100\n",
      "37028/37028 [==============================] - 2s 42us/step - loss: 93.2564 - mean_absolute_error: 6.0148 - mean_squared_error: 93.2564 - val_loss: 103.7031 - val_mean_absolute_error: 6.1453 - val_mean_squared_error: 103.7031\n",
      "Epoch 81/100\n",
      "37028/37028 [==============================] - 2s 43us/step - loss: 93.2609 - mean_absolute_error: 6.0296 - mean_squared_error: 93.2609 - val_loss: 103.8031 - val_mean_absolute_error: 6.0932 - val_mean_squared_error: 103.8031\n",
      "Epoch 82/100\n",
      "37028/37028 [==============================] - 2s 43us/step - loss: 93.2373 - mean_absolute_error: 6.0055 - mean_squared_error: 93.2373 - val_loss: 103.6441 - val_mean_absolute_error: 6.3071 - val_mean_squared_error: 103.6441\n",
      "Epoch 83/100\n",
      "37028/37028 [==============================] - 2s 46us/step - loss: 93.2517 - mean_absolute_error: 6.0249 - mean_squared_error: 93.2517 - val_loss: 103.6350 - val_mean_absolute_error: 6.2150 - val_mean_squared_error: 103.6350\n",
      "Epoch 84/100\n",
      "37028/37028 [==============================] - 2s 45us/step - loss: 93.2289 - mean_absolute_error: 6.0158 - mean_squared_error: 93.2289 - val_loss: 103.6295 - val_mean_absolute_error: 6.2288 - val_mean_squared_error: 103.6295\n",
      "Epoch 85/100\n",
      "37028/37028 [==============================] - 2s 41us/step - loss: 93.2540 - mean_absolute_error: 6.0187 - mean_squared_error: 93.2540 - val_loss: 103.6924 - val_mean_absolute_error: 6.1525 - val_mean_squared_error: 103.6924\n",
      "Epoch 86/100\n",
      "37028/37028 [==============================] - 2s 43us/step - loss: 93.2398 - mean_absolute_error: 6.0168 - mean_squared_error: 93.2398 - val_loss: 103.6972 - val_mean_absolute_error: 6.1492 - val_mean_squared_error: 103.6972\n",
      "Epoch 87/100\n",
      "37028/37028 [==============================] - 1s 38us/step - loss: 93.2391 - mean_absolute_error: 6.0147 - mean_squared_error: 93.2391 - val_loss: 103.6281 - val_mean_absolute_error: 6.2339 - val_mean_squared_error: 103.6281\n",
      "Epoch 88/100\n",
      "37028/37028 [==============================] - 1s 37us/step - loss: 93.2252 - mean_absolute_error: 6.0289 - mean_squared_error: 93.2252 - val_loss: 103.8220 - val_mean_absolute_error: 6.0852 - val_mean_squared_error: 103.8220\n",
      "Epoch 89/100\n",
      "37028/37028 [==============================] - 1s 37us/step - loss: 93.2480 - mean_absolute_error: 6.0202 - mean_squared_error: 93.2480 - val_loss: 103.8550 - val_mean_absolute_error: 6.0722 - val_mean_squared_error: 103.8550\n",
      "Epoch 90/100\n",
      "37028/37028 [==============================] - 1s 39us/step - loss: 93.2494 - mean_absolute_error: 6.0109 - mean_squared_error: 93.2494 - val_loss: 103.7953 - val_mean_absolute_error: 6.0966 - val_mean_squared_error: 103.7953\n",
      "Epoch 91/100\n",
      "37028/37028 [==============================] - 2s 43us/step - loss: 93.2308 - mean_absolute_error: 6.0224 - mean_squared_error: 93.2308 - val_loss: 103.7730 - val_mean_absolute_error: 6.1068 - val_mean_squared_error: 103.7730\n",
      "Epoch 92/100\n",
      "37028/37028 [==============================] - 2s 46us/step - loss: 93.2336 - mean_absolute_error: 6.0164 - mean_squared_error: 93.2336 - val_loss: 103.6468 - val_mean_absolute_error: 6.1959 - val_mean_squared_error: 103.6468\n",
      "Epoch 93/100\n",
      "37028/37028 [==============================] - 1s 39us/step - loss: 93.2225 - mean_absolute_error: 6.0139 - mean_squared_error: 93.2225 - val_loss: 103.6298 - val_mean_absolute_error: 6.2278 - val_mean_squared_error: 103.6298\n",
      "Epoch 94/100\n",
      "37028/37028 [==============================] - 1s 36us/step - loss: 93.2125 - mean_absolute_error: 6.0221 - mean_squared_error: 93.2125 - val_loss: 103.6590 - val_mean_absolute_error: 6.1815 - val_mean_squared_error: 103.6590\n",
      "Epoch 95/100\n",
      "37028/37028 [==============================] - 1s 36us/step - loss: 93.2461 - mean_absolute_error: 6.0146 - mean_squared_error: 93.2461 - val_loss: 103.7080 - val_mean_absolute_error: 6.1421 - val_mean_squared_error: 103.7080\n",
      "Epoch 96/100\n",
      "37028/37028 [==============================] - 1s 36us/step - loss: 93.2238 - mean_absolute_error: 6.0120 - mean_squared_error: 93.2238 - val_loss: 103.6645 - val_mean_absolute_error: 6.1759 - val_mean_squared_error: 103.6645\n",
      "Epoch 97/100\n",
      "37028/37028 [==============================] - 1s 36us/step - loss: 93.2297 - mean_absolute_error: 6.0220 - mean_squared_error: 93.2297 - val_loss: 103.6377 - val_mean_absolute_error: 6.2098 - val_mean_squared_error: 103.6377\n",
      "Epoch 98/100\n",
      "37028/37028 [==============================] - 1s 36us/step - loss: 93.2096 - mean_absolute_error: 6.0198 - mean_squared_error: 93.2096 - val_loss: 103.7974 - val_mean_absolute_error: 6.0957 - val_mean_squared_error: 103.7974\n",
      "Epoch 99/100\n",
      "37028/37028 [==============================] - 1s 36us/step - loss: 93.2244 - mean_absolute_error: 6.0114 - mean_squared_error: 93.2244 - val_loss: 103.6731 - val_mean_absolute_error: 6.1679 - val_mean_squared_error: 103.6731\n",
      "Epoch 100/100\n",
      "37028/37028 [==============================] - 1s 37us/step - loss: 93.2694 - mean_absolute_error: 6.0256 - mean_squared_error: 93.2694 - val_loss: 103.9520 - val_mean_absolute_error: 6.0393 - val_mean_squared_error: 103.9520\n"
     ]
    }
   ],
   "source": [
    "model = Sequential()\n",
    "model.add(Dense(128,input_shape=[8],activation='relu'))\n",
    "model.add(Dropout(0.5))\n",
    "model.add(Dense(64,activation='relu'))\n",
    "model.add(Dropout(0.5))\n",
    "model.add(Dense(32,activation='relu'))\n",
    "model.add(Dense(1,activation='linear'))\n",
    "\n",
    "optimizer = optimizers.Adam(lr=0.002)\n",
    "model.compile(optimizer=optimizer,loss='mse',metrics=['mae','mse'])\n",
    "\n",
    "history = model.fit(x_train, y_train, epochs=100,validation_split = 0.2, batch_size=128)"
   ]
  },
  {
   "cell_type": "code",
   "execution_count": 171,
   "metadata": {},
   "outputs": [
    {
     "name": "stdout",
     "output_type": "stream",
     "text": [
      "Mean absolute error on test data 5.8774690368185025\n"
     ]
    },
    {
     "data": {
      "image/png": "[encoded data removed]",
      "text/plain": [
       "<Figure size 432x288 with 1 Axes>"
      ]
     },
     "metadata": {
      "needs_background": "light"
     },
     "output_type": "display_data"
    },
    {
     "data": {
      "image/png": "[encoded data removed]",
      "text/plain": [
       "<Figure size 432x288 with 1 Axes>"
      ]
     },
     "metadata": {
      "needs_background": "light"
     },
     "output_type": "display_data"
    }
   ],
   "source": [
    "hist = pd.DataFrame(history.history)\n",
    "hist['epoch'] = history.epoch\n",
    "\n",
    "plt.figure()\n",
    "plt.xlabel('epoch')\n",
    "plt.ylabel('Mean absolute error')\n",
    "plt.plot(hist['epoch'], hist['mean_absolute_error'], label='Train Error')\n",
    "plt.plot(hist['epoch'], hist['val_mean_absolute_error'], label = 'Validation Error')\n",
    "plt.legend()\n",
    "\n",
    "\n",
    "plt.figure()\n",
    "plt.xlabel('epoch')\n",
    "plt.ylabel('Mean Square Error')\n",
    "plt.plot(hist['epoch'], hist['mean_squared_error'], label='Train Error')\n",
    "plt.plot(hist['epoch'], hist['val_mean_squared_error'], label = 'Validation Error')\n",
    "plt.legend()\n",
    "\n",
    "loss, mae, mse = model.evaluate(x_test, y_test, verbose=0)\n",
    "print(f\"Mean absolute error on test data {mae}\")"
   ]
  },
  {
   "cell_type": "code",
   "execution_count": 172,
   "metadata": {},
   "outputs": [],
   "source": [
    "predictions = model.predict(x_test).flatten()"
   ]
  },
  {
   "cell_type": "code",
   "execution_count": 173,
   "metadata": {},
   "outputs": [
    {
     "data": {
      "text/plain": [
       "(0, 206.22591594129756)"
      ]
     },
     "execution_count": 173,
     "metadata": {},
     "output_type": "execute_result"
    },
    {
     "data": {
      "image/png": "[encoded data removed]",
      "text/plain": [
       "<Figure size 432x288 with 1 Axes>"
      ]
     },
     "metadata": {
      "needs_background": "light"
     },
     "output_type": "display_data"
    }
   ],
   "source": [
    "plt.scatter(y_test, predictions)\n",
    "plt.xlabel('True Values [Fare]')\n",
    "plt.ylabel('Predictions [Fare]')\n",
    "plt.axis('equal')\n",
    "plt.axis('square')\n",
    "plt.xlim([0,plt.xlim()[1]])\n",
    "plt.ylim([0,plt.ylim()[1]])\n"
   ]
  },
  {
   "cell_type": "code",
   "execution_count": null,
   "metadata": {},
   "outputs": [],
   "source": []
  }
 ],
 "metadata": {
  "kernelspec": {
   "display_name": "Python 3",
   "language": "python",
   "name": "python3"
  },
  "language_info": {
   "codemirror_mode": {
    "name": "ipython",
    "version": 3
   },
   "file_extension": ".py",
   "mimetype": "text/x-python",
   "name": "python",
   "nbconvert_exporter": "python",
   "pygments_lexer": "ipython3",
   "version": "3.6.0"
  }
 },
 "nbformat": 4,
 "nbformat_minor": 2
}
